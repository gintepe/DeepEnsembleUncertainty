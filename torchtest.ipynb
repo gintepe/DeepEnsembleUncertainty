{
 "metadata": {
  "language_info": {
   "codemirror_mode": {
    "name": "ipython",
    "version": 3
   },
   "file_extension": ".py",
   "mimetype": "text/x-python",
   "name": "python",
   "nbconvert_exporter": "python",
   "pygments_lexer": "ipython3",
   "version": "3.8.7"
  },
  "orig_nbformat": 2,
  "kernelspec": {
   "name": "pythonjvsc74a57bd048b64db227b3f5cb4afbfc07e90e202d0142ea2a06daaa20f8a619f487d7f983",
   "display_name": "Python 3.8.7  ('proj-env': venv)"
  },
  "metadata": {
   "interpreter": {
    "hash": "48b64db227b3f5cb4afbfc07e90e202d0142ea2a06daaa20f8a619f487d7f983"
   }
  }
 },
 "nbformat": 4,
 "nbformat_minor": 2,
 "cells": [
  {
   "cell_type": "code",
   "execution_count": 1,
   "metadata": {},
   "outputs": [],
   "source": [
    "import torch\n",
    "import numpy as np"
   ]
  },
  {
   "cell_type": "code",
   "execution_count": 96,
   "metadata": {},
   "outputs": [],
   "source": [
    "class MCDC_FC(torch.nn.Module):\n",
    "    def __init__(self, in_feat, out_feat, p):\n",
    "        super().__init__()\n",
    "        self.in_feat = in_feat\n",
    "        self.out_feat= out_feat\n",
    "        self.p = p\n",
    "        W = torch.empty((in_feat, out_feat), requires_grad=True)\n",
    "        bias = torch.empty(out_feat, requires_grad=True)\n",
    "\n",
    "        torch.nn.init.xavier_normal_(W)\n",
    "        torch.nn.init.normal_(bias)\n",
    "\n",
    "        self.W = torch.nn.Parameter(W)\n",
    "        self.bias = torch.nn.Parameter(bias)\n",
    "\n",
    "\n",
    "    def forward(self, x):\n",
    "        # mask_W = torch.ones_like(self.W, requires_grad=False)\n",
    "        # print(mask_W)\n",
    "        # mask_W = torch.nn.functional.dropout(mask_W, self.p, training=True) * self.p\n",
    "        # print(mask_W)\n",
    "        # mask_b = torch.ones_like(self.bias, requires_grad=False)\n",
    "        # mask_b = torch.nn.functional.dropout(mask_b, self.p, training=True) * self.p\n",
    "\n",
    "        print(self.W)\n",
    "        print(self.bias)\n",
    "        # print(self.W * mask_W)\n",
    "        # print(self.bias * mask_b)\n",
    "        W = torch.nn.functional.dropout(self.W, self.p, training=True) * self.p\n",
    "        bias = torch.nn.functional.dropout(self.bias, self.p, training=True) * self.p\n",
    "        print(W)\n",
    "        print(bias)\n",
    "        # x = torch.matmul(x, (self.W * mask_W))\n",
    "        x = torch.matmul(x, (W))\n",
    "        # x = x + self.bias*mask_b\n",
    "        x = x + bias\n",
    "\n",
    "        return x"
   ]
  },
  {
   "cell_type": "code",
   "execution_count": 97,
   "metadata": {},
   "outputs": [],
   "source": [
    "layer = MCDC_FC(3, 2, 0.5)"
   ]
  },
  {
   "cell_type": "code",
   "execution_count": 98,
   "metadata": {},
   "outputs": [],
   "source": [
    "fake_batch = torch.Tensor(np.random.randn(5, 3))\n",
    "fake_gt = torch.Tensor(np.random.randn(5, 2))"
   ]
  },
  {
   "cell_type": "code",
   "execution_count": 99,
   "metadata": {},
   "outputs": [],
   "source": [
    "optim = torch.optim.Adam(layer.parameters(), lr=0.01)"
   ]
  },
  {
   "cell_type": "code",
   "execution_count": 100,
   "metadata": {},
   "outputs": [
    {
     "output_type": "stream",
     "name": "stdout",
     "text": [
      "Parameter containing:\ntensor([[ 0.8149,  0.6133],\n        [-0.6334, -0.4846],\n        [-1.2116,  0.1024]], requires_grad=True)\nParameter containing:\ntensor([-0.4647, -0.9985], requires_grad=True)\ntensor([[ 0.0000,  0.6133],\n        [-0.0000, -0.4846],\n        [-0.0000,  0.0000]], grad_fn=<MulBackward0>)\ntensor([-0.4647, -0.0000], grad_fn=<MulBackward0>)\n"
     ]
    }
   ],
   "source": [
    "res = layer(fake_batch)"
   ]
  },
  {
   "cell_type": "code",
   "execution_count": 101,
   "metadata": {},
   "outputs": [],
   "source": [
    "loss = torch.nn.functional.mse_loss(fake_gt, res)"
   ]
  },
  {
   "cell_type": "code",
   "execution_count": 102,
   "metadata": {},
   "outputs": [],
   "source": [
    "loss.backward()\n",
    "optim.step()"
   ]
  },
  {
   "cell_type": "code",
   "execution_count": 103,
   "metadata": {},
   "outputs": [
    {
     "output_type": "stream",
     "name": "stdout",
     "text": [
      "Parameter containing:\ntensor([[ 0.8149,  0.6033],\n        [-0.6334, -0.4746],\n        [-1.2116,  0.1024]], requires_grad=True)\nParameter containing:\ntensor([-0.4547, -0.9985], requires_grad=True)\n"
     ]
    }
   ],
   "source": [
    "print(layer.W)\n",
    "print(layer.bias)"
   ]
  },
  {
   "cell_type": "code",
   "execution_count": null,
   "metadata": {},
   "outputs": [],
   "source": []
  }
 ]
}