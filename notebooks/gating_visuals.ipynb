{
 "cells": [
  {
   "cell_type": "code",
   "execution_count": 4,
   "source": [
    "import os\n",
    "import sys\n",
    "sys.path.insert(0, os.path.abspath('../'))\n",
    "import numpy as np \n",
    "import torch\n",
    "import torchvision\n",
    "import matplotlib.pyplot as plt\n",
    "\n",
    "import datasets.mnist as mnist\n",
    "import datasets.cifar10 as cifar10\n",
    "import constants\n",
    "from configuration import Configuration, DEFAULT_DICT\n",
    "from methods.moe.MixtureOfExperts import SimpleMoE\n",
    "from methods.mcdropout.MCDropout import MCDropout\n",
    "            \n",
    "from util import *\n",
    "import nb_util\n",
    "from importlib import reload\n",
    "import glob\n",
    "from collections import defaultdict"
   ],
   "outputs": [],
   "metadata": {}
  },
  {
   "cell_type": "code",
   "execution_count": 5,
   "source": [
    "test_loader = mnist.get_test_loader('/scratch/gp491/data', 128, corrupted=True, intensity=60, corruption='rotation')\n",
    "metric_dict = {'NLL': lambda p, g: metrics.basic_cross_entropy(p, g).item(), \n",
    "                    'ECE': metrics.wrap_ece(bins=20), \n",
    "                    'Brier': metrics.wrap_brier()}"
   ],
   "outputs": [],
   "metadata": {}
  },
  {
   "cell_type": "code",
   "execution_count": 34,
   "source": [
    "def get_gate_weight_cumulative(test_loader, trainer, n=5, c=0):\n",
    "    gate_vals = np.zeros(n)\n",
    "    count = 0\n",
    "    class_vals = np.zeros(n)\n",
    "    class_count = 0\n",
    "    with torch.no_grad():\n",
    "        for x, y in test_loader:\n",
    "            x, y = x.cuda(), y.cuda()\n",
    "            gate_out = trainer.model.gating_network(x)\n",
    "            ma, amax = gate_out.max(1)\n",
    "            # max_mask = np.where(gate_out.cpu() == ma.unsqueeze(1), 1, 0)\n",
    "            gate_vals += gate_out.sum(0).cpu().numpy()\n",
    "            # count_max += max_mask.sum(0)\n",
    "            count += x.shape[0]\n",
    "\n",
    "            class_out = gate_out[y == c]\n",
    "            class_vals += class_out.sum(0).cpu().numpy()\n",
    "            class_count += class_out.shape[0]\n",
    "\n",
    "    return gate_vals, count, class_vals, class_count"
   ],
   "outputs": [],
   "metadata": {}
  },
  {
   "cell_type": "code",
   "execution_count": 22,
   "source": [
    "mnist_dir = '/scratch/gp491/wandb/checkpoints/mnist-moe'\n",
    "baseline_dirs = list([f'/scratch/gp491/wandb/checkpoints/mnist_baseline_{s}' for s in [0, 10, 2137]])\n",
    "\n",
    "mnist_res = defaultdict(list)\n",
    "\n",
    "for d in baseline_dirs + [mnist_dir]:\n",
    "    paths =  glob.glob(f'{d}/*')\n",
    "    for path in paths:\n",
    "        try:\n",
    "            res = nb_util.MNISTRunData(path)\n",
    "            mnist_res[res.name].append(res)\n",
    "        except:\n",
    "            pass\n",
    "\n",
    "mnist_res_comb = {}\n",
    "for key, value in mnist_res.items():\n",
    "    mnist_res_comb[key] = nb_util.MNISTMultiRunData(value)"
   ],
   "outputs": [],
   "metadata": {}
  },
  {
   "cell_type": "code",
   "execution_count": 32,
   "source": [
    "def plot_bars_distribution(ax, bar_heights):\n",
    "    ax.bar(np.arange(bar_heights.shape[0]), bar_heights, color=nb_util.light_green)\n",
    "\n",
    "    ax.set_ylim(0,1)\n",
    "\n",
    "    nb_util.set_axis_props(ax, 'Expert', 'Mean Weight Assigned', 15)\n"
   ],
   "outputs": [],
   "metadata": {}
  },
  {
   "cell_type": "code",
   "execution_count": 24,
   "source": [
    "mnist_res_comb.keys()"
   ],
   "outputs": [
    {
     "output_type": "execute_result",
     "data": {
      "text/plain": [
       "dict_keys(['lenet-ens-5', 'lenet-mcdrop-50', 'lenet-single', 'sum-loss-gate-conv', 'ens-loss-gate-conv', 'sum-loss-gate-same', 'ens-loss-gate-same', 'sum-loss-gate-simple', 'ens-loss-gate-simple', 'sum-loss-gate-mcd_conv-0.1', 'ens-loss-gate-mcd_conv-0.1', 'sum-loss-gate-mcd_conv-0.5', 'ens-loss-gate-mcd_conv-0.5', 'sum-loss-gate-mcd_conv-0.9', 'ens-loss-gate-mcd_conv-0.9', 'sum-loss-gate-mcd_lenet-0.1', 'ens-loss-gate-mcd_lenet-0.1', 'sum-loss-gate-mcd_lenet-0.5', 'ens-loss-gate-mcd_lenet-0.5', 'sum-loss-gate-mcd_lenet-0.9', 'ens-loss-gate-mcd_lenet-0.9', 'sum-loss-gate-mcd_simple-0.1', 'ens-loss-gate-mcd_simple-0.1', 'sum-loss-gate-mcd_simple-0.5', 'ens-loss-gate-mcd_simple-0.5', 'sum-loss-gate-mcd_simple-0.9', 'ens-loss-gate-mcd_simple-0.9', 'sparse-ens-loss-gate-conv', 'sparse-ens-loss-gate-same', 'sparse-ens-loss-gate-simple'])"
      ]
     },
     "metadata": {},
     "execution_count": 24
    }
   ],
   "metadata": {}
  },
  {
   "cell_type": "code",
   "execution_count": 57,
   "source": [
    "r = mnist_res_comb['ens-loss-gate-mcd_conv-0.9']"
   ],
   "outputs": [],
   "metadata": {}
  },
  {
   "cell_type": "code",
   "execution_count": 58,
   "source": [
    "trainer, model_args = load_trainer('/'.join(r.runs[0].path.split('/')[-2:]), 40, device='cuda')\n",
    "trainer.model.cuda();"
   ],
   "outputs": [
    {
     "output_type": "stream",
     "name": "stdout",
     "text": [
      "Initialising a Mixture of Experts\n",
      "criterion: <function ensemble_criterion at 0x7f41f60be1f0>\n",
      "Using a simple convolutional gate\n"
     ]
    }
   ],
   "metadata": {}
  },
  {
   "cell_type": "code",
   "execution_count": 59,
   "source": [
    "gv, c, cv, cc = get_gate_weight_cumulative(test_loader, trainer, n=5, c=0)"
   ],
   "outputs": [],
   "metadata": {}
  },
  {
   "cell_type": "code",
   "execution_count": 53,
   "source": [
    "fig, ax = plt.subplots(1, 2, figsize=(8,3))\n",
    "plot_bars_distribution(ax[0], gv/c)\n",
    "plot_bars_distribution(ax[1], cv/cc)\n",
    "fig.tight_layout()"
   ],
   "outputs": [
    {
     "output_type": "display_data",
     "data": {
      "text/plain": [
       "<Figure size 576x216 with 2 Axes>"
      ],
      "image/png": "[encoded data removed]"
     },
     "metadata": {
      "needs_background": "light"
     }
    }
   ],
   "metadata": {}
  },
  {
   "cell_type": "code",
   "execution_count": 48,
   "source": [
    "fig, ax = plt.subplots(1, 2, figsize=(8,3))\n",
    "plot_bars_distribution(ax[0], gv/c)\n",
    "plot_bars_distribution(ax[1], cv/cc)\n",
    "fig.tight_layout()"
   ],
   "outputs": [
    {
     "output_type": "display_data",
     "data": {
      "text/plain": [
       "<Figure size 576x216 with 2 Axes>"
      ],
      "image/png": "[encoded data removed]"
     },
     "metadata": {
      "needs_background": "light"
     }
    }
   ],
   "metadata": {}
  },
  {
   "cell_type": "code",
   "execution_count": 60,
   "source": [
    "fig, ax = plt.subplots(1, 2, figsize=(8,3))\n",
    "plot_bars_distribution(ax[0], gv/c)\n",
    "plot_bars_distribution(ax[1], cv/cc)\n",
    "fig.tight_layout()"
   ],
   "outputs": [
    {
     "output_type": "display_data",
     "data": {
      "text/plain": [
       "<Figure size 576x216 with 2 Axes>"
      ],
      "image/png": "[encoded data removed]"
     },
     "metadata": {
      "needs_background": "light"
     }
    }
   ],
   "metadata": {}
  },
  {
   "cell_type": "code",
   "execution_count": null,
   "source": [],
   "outputs": [],
   "metadata": {}
  }
 ],
 "metadata": {
  "orig_nbformat": 4,
  "language_info": {
   "name": "python",
   "version": "3.8.7",
   "mimetype": "text/x-python",
   "codemirror_mode": {
    "name": "ipython",
    "version": 3
   },
   "pygments_lexer": "ipython3",
   "nbconvert_exporter": "python",
   "file_extension": ".py"
  },
  "kernelspec": {
   "name": "python3",
   "display_name": "Python 3.8.7 64-bit ('proj-env': venv)"
  },
  "interpreter": {
   "hash": "48b64db227b3f5cb4afbfc07e90e202d0142ea2a06daaa20f8a619f487d7f983"
  }
 },
 "nbformat": 4,
 "nbformat_minor": 2
}