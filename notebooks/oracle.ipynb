{
 "metadata": {
  "language_info": {
   "codemirror_mode": {
    "name": "ipython",
    "version": 3
   },
   "file_extension": ".py",
   "mimetype": "text/x-python",
   "name": "python",
   "nbconvert_exporter": "python",
   "pygments_lexer": "ipython3",
   "version": "3.8.7"
  },
  "orig_nbformat": 2,
  "kernelspec": {
   "name": "python3",
   "display_name": "Python 3.8.7 64-bit ('proj-env': venv)"
  },
  "metadata": {
   "interpreter": {
    "hash": "48b64db227b3f5cb4afbfc07e90e202d0142ea2a06daaa20f8a619f487d7f983"
   }
  },
  "interpreter": {
   "hash": "48b64db227b3f5cb4afbfc07e90e202d0142ea2a06daaa20f8a619f487d7f983"
  }
 },
 "nbformat": 4,
 "nbformat_minor": 2,
 "cells": [
  {
   "cell_type": "markdown",
   "source": [
    "This notebook provides a comparison of oracle performance for deep ensembles and sets of \"expert\" networks obtained by training end-to-end mixture of expert models. The oracle performance (both loss and accuracy) is obtained by only considering the subnetwork with the lowest loss for each sample."
   ],
   "metadata": {}
  },
  {
   "cell_type": "code",
   "execution_count": 1,
   "source": [
    "import os\n",
    "import sys\n",
    "sys.path.insert(0, os.path.abspath('../'))"
   ],
   "outputs": [],
   "metadata": {}
  },
  {
   "cell_type": "code",
   "execution_count": 2,
   "source": [
    "import numpy as np \n",
    "import torch\n",
    "import torchvision\n",
    "import matplotlib.pyplot as plt\n",
    "\n",
    "import datasets.mnist as mnist\n",
    "import datasets.cifar10 as cifar10\n",
    "import constants\n",
    "from configuration import Configuration\n",
    "from metrics import basic_cross_entropy\n",
    "\n",
    "from util import *"
   ],
   "outputs": [],
   "metadata": {}
  },
  {
   "cell_type": "code",
   "execution_count": 3,
   "source": [
    "from tqdm.notebook import trange, tqdm"
   ],
   "outputs": [],
   "metadata": {}
  },
  {
   "cell_type": "markdown",
   "source": [
    "## Setup"
   ],
   "metadata": {}
  },
  {
   "cell_type": "code",
   "execution_count": 9,
   "source": [
    "def oracle_loss_and_correctness(preds, gt, criterion):\n",
    "    losses = torch.stack([criterion(pred, gt, reduction='none') for pred in preds], dim=1)\n",
    "    loss_val, net_id = torch.min(losses, dim=-1)\n",
    "    \n",
    "    oracle_loss = torch.mean(loss_val)\n",
    "    preds_stacked = torch.stack(preds, dim=1)\n",
    "\n",
    "    oracle_preds = preds_stacked[torch.arange(preds_stacked.shape[0]), net_id]\n",
    "\n",
    "    confidence, predicted = torch.max(oracle_preds, 1)\n",
    "    correct = (predicted == gt).sum().item()\n",
    "\n",
    "    loads = np.zeros((len(preds)))\n",
    "    for i in range(len(preds)):\n",
    "        loads[i] = (net_id == i).sum().item()\n",
    "\n",
    "    return oracle_loss, correct, loads"
   ],
   "outputs": [],
   "metadata": {}
  },
  {
   "cell_type": "code",
   "execution_count": 7,
   "source": [
    "def oracle_test(loader, trainer, main_criterion=basic_cross_entropy, individual_criterion=torch.nn.functional.cross_entropy):\n",
    "    trainer.model.eval()\n",
    "    \n",
    "    total = 0\n",
    "    loss = 0\n",
    "    correct = 0\n",
    "    oracle_correct = 0\n",
    "    oracle_loss = 0\n",
    "    oracle_loads = np.zeros((trainer.n))\n",
    "\n",
    "    with torch.no_grad():\n",
    "        with tqdm(loader, unit=\"batch\") as tepoch:\n",
    "            for x, y in tepoch:\n",
    "\n",
    "                n = x.shape[0]\n",
    "                total += n\n",
    "\n",
    "                cum_pred, preds = trainer.predict_test(x)\n",
    "                \n",
    "                loss += main_criterion(cum_pred, y).item() * n\n",
    "                confidence, predicted = torch.max(cum_pred, 1)\n",
    "                correct += (predicted == y).sum().item()\n",
    "\n",
    "                oracle_batch_loss, oracle_batch_correct, batch_oracle_loads = oracle_loss_and_correctness(preds, y, individual_criterion)\n",
    "                oracle_loss += oracle_batch_loss * n\n",
    "                oracle_correct += oracle_batch_correct\n",
    "                oracle_loads += batch_oracle_loads\n",
    "\n",
    "    print(f'Results:\\nAccuracy: {correct/total}\\nOracle accuracy: {oracle_correct/total}\\nLoss: {loss / total}\\nOracle loss {oracle_loss/total}\\nOracle Loads: {oracle_loads/total}')\n",
    "\n",
    "    return correct/total, oracle_correct/total, loss/total, oracle_loss/total, oracle_loads/total\n",
    "\n"
   ],
   "outputs": [],
   "metadata": {}
  },
  {
   "cell_type": "code",
   "execution_count": 4,
   "source": [
    "# mnist 5 lenet ensemble \n",
    "run_id_ens_mnist = 'run-20210620_200823-3pjsgj5t'\n",
    "\n",
    "# class-specific gating moe\n",
    "run_id_classgated_mnist = 'run-20210805_150649-1h06xm2k'\n",
    "\n",
    "# mnist 5 lenet MoE with MLP gating\n",
    "run_id_moe_mnist = 'run-20210715_132419-25v4nj6r'\n",
    "\n",
    "# mnist 5 lenet MoE with convolutional gating\n",
    "run_id_moe_mnist_conv = 'run-20210713_152705-r9znwdrf'\n",
    "\n",
    "# mnist 5 lenet MoE trained via sum loss\n",
    "run_id_moe_mnist_sumloss = 'run-20210720_195742-3tszfwy7'\n",
    "\n",
    "# cifar10 5 resnet20 DE\n",
    "run_id_ens_cifar = 'run-20210714_204846-2xi5eo42'\n",
    "\n",
    "# cifar10 5 expert MoE with MLP gating\n",
    "run_id_moe_cifar = 'run-20210709_132246-30tjmo1b'\n",
    "\n",
    "# cifar 10 5 expert MoE with conv gating\n",
    "run_id_moe_cifar_conv = 'run-20210714_173933-3dt16gha'\n",
    "\n",
    "# cifar 10 5 experts MoE with MC Dropout gating\n",
    "run_id_moe_cifar_mcd = 'run-20210704_235514-2k6cty25'\n",
    "\n",
    "# cifar 10 hard class allocations\n",
    "run_id_cifar_class = 'run-20210719_224716-31fxykw8'\n",
    "\n",
    "# cifar100 ens 5\n",
    "run_id_cifar100_ens = 'cifar100-baseline-2137/run-20210727_061234-13c3x9go'\n",
    "\n",
    "# cifar100 moe 5 fixed class gate\n",
    "run_id_cifar100_class_gate = 'run-20210805_144739-bttnarpp'\n",
    "\n",
    "data_dir='/scratch/gp491/data'"
   ],
   "outputs": [],
   "metadata": {}
  },
  {
   "cell_type": "code",
   "execution_count": 5,
   "source": [
    "\n",
    "test_loader_mnist = mnist.get_test_loader(data_dir, 128, corrupted=False)#, intensity=i, corruption='rotation')\n",
    "test_loader_cifar = cifar10.get_test_loader(data_dir, 128, corrupted=False)#, corruptions=constants.CORRUPTIONS, intensities=[corruption_intensity]is_cifar10=model_args.dataset_type=='cifar10')\n",
    "test_loader_cifar_100 = cifar10.get_test_loader(data_dir, 128, corrupted=False, is_cifar10=False)#, corruptions=constants.CORRUPTIONS, intensities=[corruption_intensity]is_cifar10=model_args.dataset_type=='cifar10')"
   ],
   "outputs": [],
   "metadata": {}
  },
  {
   "cell_type": "markdown",
   "source": [
    "### Run a test for a regular deep ensemble on MNIST"
   ],
   "metadata": {}
  },
  {
   "cell_type": "code",
   "execution_count": 10,
   "source": [
    "trainer, model_args = load_trainer(run_id_ens_mnist, 40, device='cpu')\n",
    "oracle_test(test_loader_mnist, trainer);"
   ],
   "outputs": [
    {
     "output_type": "stream",
     "name": "stdout",
     "text": [
      "Initialising an ensemble of 5 networks\n"
     ]
    },
    {
     "output_type": "display_data",
     "data": {
      "text/plain": [
       "  0%|          | 0/79 [00:00<?, ?batch/s]"
      ],
      "application/vnd.jupyter.widget-view+json": {
       "version_major": 2,
       "version_minor": 0,
       "model_id": "cfbf0dc0abb746a48324da2e53adbc61"
      }
     },
     "metadata": {}
    },
    {
     "output_type": "stream",
     "name": "stdout",
     "text": [
      "Results:\n",
      "Accuracy: 0.9897\n",
      "Oracle accuracy: 0.9951\n",
      "Loss: 0.02999235608279705\n",
      "Oracle loss 0.014500806108117104\n",
      "Oracle Loads: [0.1337 0.2073 0.1601 0.2491 0.2498]\n"
     ]
    }
   ],
   "metadata": {}
  },
  {
   "cell_type": "markdown",
   "source": [
    "### Run a test for a MoE model on MNIST"
   ],
   "metadata": {}
  },
  {
   "cell_type": "code",
   "execution_count": 23,
   "source": [
    "trainer, model_args = load_trainer(run_id_moe_mnist, 60, device='cpu')\n",
    "oracle_test(test_loader_mnist, trainer);"
   ],
   "outputs": [
    {
     "output_type": "display_data",
     "data": {
      "text/plain": [
       "  0%|          | 0/79 [00:00<?, ?batch/s]"
      ],
      "application/vnd.jupyter.widget-view+json": {
       "version_major": 2,
       "version_minor": 0,
       "model_id": "c1d50123f7e744c5936d4b91cf0ed446"
      }
     },
     "metadata": {}
    },
    {
     "output_type": "stream",
     "name": "stdout",
     "text": [
      "Results:\n",
      "Accuracy: 0.9847\n",
      "Oracle accuracy: 0.9969\n",
      "Loss: 0.055492172188602855\n",
      "Oracle loss 0.010589958168566227\n",
      "Loads: [0.0897 0.1799 0.1581 0.2881 0.2842]\n"
     ]
    }
   ],
   "metadata": {}
  },
  {
   "cell_type": "code",
   "execution_count": 24,
   "source": [
    "trainer, model_args = load_trainer(run_id_moe_mnist_conv, 40, device='cpu')\n",
    "oracle_test(test_loader_mnist, trainer);"
   ],
   "outputs": [
    {
     "output_type": "stream",
     "name": "stdout",
     "text": [
      "Using a simple convolutional gate\n"
     ]
    },
    {
     "output_type": "display_data",
     "data": {
      "text/plain": [
       "  0%|          | 0/79 [00:00<?, ?batch/s]"
      ],
      "application/vnd.jupyter.widget-view+json": {
       "version_major": 2,
       "version_minor": 0,
       "model_id": "11f5fe6fadc24e9f86b2662b91487ccf"
      }
     },
     "metadata": {}
    },
    {
     "output_type": "stream",
     "name": "stdout",
     "text": [
      "Results:\n",
      "Accuracy: 0.983\n",
      "Oracle accuracy: 0.9973\n",
      "Loss: 0.060985859308578076\n",
      "Oracle loss 0.009276136755943298\n",
      "Loads: [0.194  0.1462 0.2236 0.2507 0.1855]\n"
     ]
    }
   ],
   "metadata": {}
  },
  {
   "cell_type": "markdown",
   "source": [
    "### Run a test for a regular deep ensemble on CIFAR10\n"
   ],
   "metadata": {}
  },
  {
   "cell_type": "code",
   "execution_count": 25,
   "source": [
    "trainer, model_args = load_trainer(run_id_ens_cifar, 180, device='cpu')\n",
    "oracle_test(test_loader_cifar, trainer);"
   ],
   "outputs": [
    {
     "output_type": "stream",
     "name": "stdout",
     "text": [
      "Initialising an ensemble of 5 networks\n",
      "SGD optimizer\n"
     ]
    },
    {
     "output_type": "display_data",
     "data": {
      "text/plain": [
       "  0%|          | 0/79 [00:00<?, ?batch/s]"
      ],
      "application/vnd.jupyter.widget-view+json": {
       "version_major": 2,
       "version_minor": 0,
       "model_id": "f931820c5c0242bc8f368533122b9226"
      }
     },
     "metadata": {}
    },
    {
     "output_type": "stream",
     "name": "stdout",
     "text": [
      "Results:\n",
      "Accuracy: 0.936\n",
      "Oracle accuracy: 0.9773\n",
      "Loss: 0.20362979168891907\n",
      "Oracle loss 0.07903696596622467\n",
      "Loads: [0.4186 0.1942 0.1514 0.1208 0.115 ]\n"
     ]
    }
   ],
   "metadata": {}
  },
  {
   "cell_type": "markdown",
   "source": [
    "### Run a test for a MoE model on CIFAR"
   ],
   "metadata": {}
  },
  {
   "cell_type": "code",
   "execution_count": 26,
   "source": [
    "trainer, model_args = load_trainer(run_id_moe_cifar, 180, device='cpu')\n",
    "oracle_test(test_loader_cifar, trainer);"
   ],
   "outputs": [
    {
     "output_type": "stream",
     "name": "stdout",
     "text": [
      "Using a simple gate\n",
      "SGD optimizer\n",
      "using multistep scheduler\n"
     ]
    },
    {
     "output_type": "display_data",
     "data": {
      "text/plain": [
       "  0%|          | 0/79 [00:00<?, ?batch/s]"
      ],
      "application/vnd.jupyter.widget-view+json": {
       "version_major": 2,
       "version_minor": 0,
       "model_id": "59fae3f9f8994c8fbbc79c7cf93ef157"
      }
     },
     "metadata": {}
    },
    {
     "output_type": "stream",
     "name": "stdout",
     "text": [
      "Results:\n",
      "Accuracy: 0.8918\n",
      "Oracle accuracy: 0.9727\n",
      "Loss: 0.36145306406021116\n",
      "Oracle loss 0.08147614449262619\n",
      "Loads: [0.2979 0.23   0.2068 0.0644 0.2009]\n"
     ]
    }
   ],
   "metadata": {}
  },
  {
   "cell_type": "code",
   "execution_count": 25,
   "source": [
    "trainer, model_args = load_trainer(run_id_moe_cifar_conv, 180, device='cpu')\n",
    "oracle_test(test_loader_cifar, trainer);"
   ],
   "outputs": [
    {
     "output_type": "stream",
     "name": "stdout",
     "text": [
      "Initialising a Mixture of Experts\n",
      "criterion: <function ensemble_criterion at 0x7f8833f0f8b0>\n",
      "Using a simple convolutional gate\n",
      "SGD optimizer\n",
      "using multistep scheduler\n"
     ]
    },
    {
     "output_type": "display_data",
     "data": {
      "text/plain": [
       "  0%|          | 0/79 [00:00<?, ?batch/s]"
      ],
      "application/vnd.jupyter.widget-view+json": {
       "version_major": 2,
       "version_minor": 0,
       "model_id": "cb36be686c724b7bac2f910dc1876f94"
      }
     },
     "metadata": {}
    },
    {
     "output_type": "stream",
     "name": "stdout",
     "text": [
      "Results:\n",
      "Accuracy: 0.9023\n",
      "Oracle accuracy: 0.9751\n",
      "Loss: 0.35131385192871095\n",
      "Oracle loss 0.07271169871091843\n",
      "Oracle Loads: [0.279  0.2218 0.2381 0.0291 0.232 ]\n"
     ]
    }
   ],
   "metadata": {}
  },
  {
   "cell_type": "code",
   "execution_count": 28,
   "source": [
    "trainer, model_args = load_trainer(run_id_moe_cifar_mcd, 180, device='cpu')\n",
    "oracle_test(test_loader_cifar, trainer);"
   ],
   "outputs": [
    {
     "output_type": "stream",
     "name": "stdout",
     "text": [
      "mc drop gate with p = 0.9\n",
      "SGD optimizer\n",
      "using multistep scheduler\n"
     ]
    },
    {
     "output_type": "display_data",
     "data": {
      "text/plain": [
       "  0%|          | 0/79 [00:00<?, ?batch/s]"
      ],
      "application/vnd.jupyter.widget-view+json": {
       "version_major": 2,
       "version_minor": 0,
       "model_id": "8275d3ba59ee4c6fb0693e5ab73ce082"
      }
     },
     "metadata": {}
    },
    {
     "output_type": "stream",
     "name": "stdout",
     "text": [
      "Results:\n",
      "Accuracy: 0.9234\n",
      "Oracle accuracy: 0.9738\n",
      "Loss: 0.25389006974697115\n",
      "Oracle loss 0.09243524819612503\n",
      "Loads: [0.2616 0.2046 0.1997 0.2002 0.1339]\n"
     ]
    }
   ],
   "metadata": {}
  },
  {
   "cell_type": "code",
   "execution_count": 11,
   "source": [
    "trainer, model_args = load_trainer(run_id_cifar_class, 180, device='cpu')\n",
    "oracle_test(test_loader_cifar, trainer);"
   ],
   "outputs": [
    {
     "output_type": "stream",
     "name": "stdout",
     "text": [
      "Using a simple convolutional gate\n",
      "SGD optimizer\n",
      "using multistep scheduler\n"
     ]
    },
    {
     "output_type": "display_data",
     "data": {
      "text/plain": [
       "  0%|          | 0/79 [00:00<?, ?batch/s]"
      ],
      "application/vnd.jupyter.widget-view+json": {
       "version_major": 2,
       "version_minor": 0,
       "model_id": "4895ae02beb347bfa64f3c5d8744ff50"
      }
     },
     "metadata": {}
    },
    {
     "output_type": "stream",
     "name": "stdout",
     "text": [
      "Results:\n",
      "Accuracy: 0.5425\n",
      "Oracle accuracy: 0.9872\n",
      "Loss: nan\n",
      "Oracle loss 0.05161862075328827\n",
      "Oracle Loads: [0.2    0.2005 0.1995 0.1996 0.2004]\n"
     ]
    }
   ],
   "metadata": {}
  },
  {
   "cell_type": "code",
   "execution_count": null,
   "source": [],
   "outputs": [],
   "metadata": {}
  }
 ]
}