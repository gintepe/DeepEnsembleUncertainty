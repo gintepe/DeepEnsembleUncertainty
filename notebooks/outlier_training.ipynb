{
 "metadata": {
  "language_info": {
   "codemirror_mode": {
    "name": "ipython",
    "version": 3
   },
   "file_extension": ".py",
   "mimetype": "text/x-python",
   "name": "python",
   "nbconvert_exporter": "python",
   "pygments_lexer": "ipython3",
   "version": "3.8.7"
  },
  "orig_nbformat": 2,
  "kernelspec": {
   "name": "python3",
   "display_name": "Python 3.8.7 64-bit ('proj-env': venv)"
  },
  "metadata": {
   "interpreter": {
    "hash": "48b64db227b3f5cb4afbfc07e90e202d0142ea2a06daaa20f8a619f487d7f983"
   }
  },
  "interpreter": {
   "hash": "48b64db227b3f5cb4afbfc07e90e202d0142ea2a06daaa20f8a619f487d7f983"
  }
 },
 "nbformat": 4,
 "nbformat_minor": 2,
 "cells": [
  {
   "cell_type": "code",
   "execution_count": 1,
   "source": [
    "import os\n",
    "import sys\n",
    "sys.path.insert(0, os.path.abspath('../'))"
   ],
   "outputs": [],
   "metadata": {}
  },
  {
   "cell_type": "code",
   "execution_count": 7,
   "source": [
    "import numpy as np \n",
    "import torch\n",
    "import torchvision\n",
    "import matplotlib.pyplot as plt\n",
    "from tqdm import tqdm\n",
    "from collections import defaultdict\n",
    "\n",
    "import datasets.mnist as mnist\n",
    "import datasets.cifar10 as cifar10\n",
    "import constants\n",
    "from configuration import Configuration, DEFAULT_DICT\n",
    "from methods.moe.MixtureOfExperts import SimpleMoE\n",
    "from methods.mcdropout.MCDropout import MCDropout\n",
    "from methods.BaseTrainer import StatisticsTracker\n",
    "from util import *\n"
   ],
   "outputs": [],
   "metadata": {}
  },
  {
   "cell_type": "code",
   "execution_count": 8,
   "source": [
    "args = Configuration(DEFAULT_DICT)\n",
    "args.moe_gating = 'simple'\n",
    "args.method = 'moe'\n",
    "args.n = 5\n",
    "args.model = 'lenet'\n",
    "args.optimizer = 'adam'\n",
    "# args.cpu = True\n",
    "args.moe_type = 'fixed'\n",
    "args.predict_gated = True\n"
   ],
   "outputs": [],
   "metadata": {}
  },
  {
   "cell_type": "code",
   "execution_count": 9,
   "source": [
    "t = get_trainer(args, 'cuda')"
   ],
   "outputs": [
    {
     "output_type": "stream",
     "name": "stdout",
     "text": [
      "Using a simple gate\n"
     ]
    }
   ],
   "metadata": {}
  },
  {
   "cell_type": "code",
   "execution_count": 10,
   "source": [
    "t.model.gate_by_class = True"
   ],
   "outputs": [],
   "metadata": {}
  },
  {
   "cell_type": "code",
   "execution_count": 11,
   "source": [
    "train_loader, valid_loader = mnist.get_mnist_train_valid_loader(args.data_dir, args.batch_size, random_seed=1)"
   ],
   "outputs": [],
   "metadata": {}
  },
  {
   "cell_type": "code",
   "execution_count": 13,
   "source": [
    "test_loader = mnist.get_test_loader(args.data_dir, args.batch_size, corrupted=False)#, intensity=i, corruption='rotation')"
   ],
   "outputs": [],
   "metadata": {}
  },
  {
   "cell_type": "code",
   "execution_count": 14,
   "source": [
    "metric_dict = {'NLL': lambda p, g: metrics.basic_cross_entropy(p, g).item(), \n",
    "                    'ECE': metrics.wrap_ece(bins=20), \n",
    "                    'Brier': metrics.wrap_brier()}"
   ],
   "outputs": [],
   "metadata": {}
  },
  {
   "cell_type": "code",
   "execution_count": 27,
   "source": [
    "from methods.moe.gate_models import SimpleConvGate, GateWrapper\n",
    "from methods.moe.laplace_gating import get_adjusted_loader\n",
    "import methods.moe.gate_train as gt\n",
    "from importlib import reload"
   ],
   "outputs": [],
   "metadata": {}
  },
  {
   "cell_type": "code",
   "execution_count": 28,
   "source": [
    "gt = reload(gt)"
   ],
   "outputs": [],
   "metadata": {}
  },
  {
   "cell_type": "code",
   "execution_count": 29,
   "source": [
    "t.model.to('cpu')\n",
    "\n",
    "gate_train_loader = get_adjusted_loader(t.model.experts, train_loader, return_original=True)\n",
    "gate_val_loader = get_adjusted_loader(t.model.experts, valid_loader, return_original=True)\n",
    "\n",
    "t.model.to(t.device);"
   ],
   "outputs": [],
   "metadata": {}
  },
  {
   "cell_type": "code",
   "execution_count": 30,
   "source": [
    "sg = GateWrapper(SimpleConvGate(28, 5))\n",
    "sg.to('cuda')\n",
    "exps, g = gt.fit_gating(t.model.experts, sg, gate_train_loader, gate_val_loader, gt.loss_sum_criterion, 'cuda', 10)\n"
   ],
   "outputs": [
    {
     "output_type": "stream",
     "name": "stderr",
     "text": [
      "  0%|          | 1/216 [00:00<00:39,  5.48batch/s, loss=9.25]Using a simple convolutional gate\n",
      "Epoch 1\n",
      "100%|██████████| 216/216 [00:07<00:00, 29.54batch/s, loss=0.61]\n",
      " 17%|█▋        | 4/24 [00:00<00:00, 33.63batch/s, loss=0.288]\n",
      "Training\n",
      "--------------\n",
      "Ensemble accuracy 0.9435555555555556\n",
      "Gate oracle accuracy 0.9478148148148148\n",
      "Loss 0.8493824156208171\n",
      "100%|██████████| 24/24 [00:00<00:00, 29.82batch/s, loss=0.506]\n",
      "  0%|          | 1/216 [00:00<00:37,  5.80batch/s, loss=0.235]\n",
      "Validation\n",
      "--------------\n",
      "Ensemble accuracy 0.9646666666666667\n",
      "Gate oracle accuracy 0.9716666666666667\n",
      "Loss 0.39983570016920567\n",
      "Epoch 2\n",
      "100%|██████████| 216/216 [00:07<00:00, 28.87batch/s, loss=0.154]\n",
      " 17%|█▋        | 4/24 [00:00<00:00, 36.12batch/s, loss=0.525]\n",
      "Training\n",
      "--------------\n",
      "Ensemble accuracy 0.9743333333333334\n",
      "Gate oracle accuracy 0.9795555555555555\n",
      "Loss 0.29242939843485755\n",
      "100%|██████████| 24/24 [00:00<00:00, 33.15batch/s, loss=0.427]\n",
      "  1%|▏         | 3/216 [00:00<00:08, 25.63batch/s, loss=0.199]\n",
      "Validation\n",
      "--------------\n",
      "Ensemble accuracy 0.9715\n",
      "Gate oracle accuracy 0.9786666666666667\n",
      "Loss 0.2959629554922382\n",
      "Epoch 3\n",
      "100%|██████████| 216/216 [00:07<00:00, 29.09batch/s, loss=0.35]\n",
      " 17%|█▋        | 4/24 [00:00<00:00, 29.48batch/s, loss=0.226]\n",
      "Training\n",
      "--------------\n",
      "Ensemble accuracy 0.9775555555555555\n",
      "Gate oracle accuracy 0.9829444444444444\n",
      "Loss 0.24107934839816558\n",
      "100%|██████████| 24/24 [00:00<00:00, 27.92batch/s, loss=0.189]\n",
      "  1%|          | 2/216 [00:00<00:10, 19.71batch/s, loss=0.294]\n",
      "Validation\n",
      "--------------\n",
      "Ensemble accuracy 0.9763333333333334\n",
      "Gate oracle accuracy 0.9838333333333333\n",
      "Loss 0.2407266218215227\n",
      "Epoch 4\n",
      "100%|██████████| 216/216 [00:07<00:00, 29.34batch/s, loss=0.105]\n",
      " 17%|█▋        | 4/24 [00:00<00:00, 31.54batch/s, loss=0.0752]\n",
      "Training\n",
      "--------------\n",
      "Ensemble accuracy 0.9792222222222222\n",
      "Gate oracle accuracy 0.9844259259259259\n",
      "Loss 0.21839604081361796\n",
      "100%|██████████| 24/24 [00:00<00:00, 32.74batch/s, loss=0.246]\n",
      "  1%|▏         | 3/216 [00:00<00:08, 25.77batch/s, loss=0.283]\n",
      "Validation\n",
      "--------------\n",
      "Ensemble accuracy 0.9766666666666667\n",
      "Gate oracle accuracy 0.9845\n",
      "Loss 0.22655779806276163\n",
      "Epoch 5\n",
      "100%|██████████| 216/216 [00:07<00:00, 29.29batch/s, loss=0.342]\n",
      " 12%|█▎        | 3/24 [00:00<00:00, 28.78batch/s, loss=0.269]\n",
      "Training\n",
      "--------------\n",
      "Ensemble accuracy 0.9815\n",
      "Gate oracle accuracy 0.9868703703703704\n",
      "Loss 0.18892251049961756\n",
      "100%|██████████| 24/24 [00:00<00:00, 29.41batch/s, loss=0.208]\n",
      "  1%|          | 2/216 [00:00<00:14, 14.69batch/s, loss=0.0668]\n",
      "Validation\n",
      "--------------\n",
      "Ensemble accuracy 0.9773333333333334\n",
      "Gate oracle accuracy 0.985\n",
      "Loss 0.22013494310279688\n",
      "Epoch 6\n",
      "100%|██████████| 216/216 [00:07<00:00, 29.13batch/s, loss=0.34]\n",
      " 17%|█▋        | 4/24 [00:00<00:00, 29.12batch/s, loss=0.0461]\n",
      "Training\n",
      "--------------\n",
      "Ensemble accuracy 0.9832777777777778\n",
      "Gate oracle accuracy 0.9887962962962963\n",
      "Loss 0.16237197641748935\n",
      "100%|██████████| 24/24 [00:00<00:00, 32.47batch/s, loss=0.23]\n",
      "  1%|▏         | 3/216 [00:00<00:09, 22.24batch/s, loss=0.106]\n",
      "Validation\n",
      "--------------\n",
      "Ensemble accuracy 0.9801666666666666\n",
      "Gate oracle accuracy 0.9875\n",
      "Loss 0.19274668535217643\n",
      "Epoch 7\n",
      "100%|██████████| 216/216 [00:07<00:00, 28.74batch/s, loss=0.143]\n",
      "  8%|▊         | 2/24 [00:00<00:01, 11.85batch/s, loss=0.264]\n",
      "Training\n",
      "--------------\n",
      "Ensemble accuracy 0.9827222222222223\n",
      "Gate oracle accuracy 0.9881296296296296\n",
      "Loss 0.16541100296847247\n",
      "100%|██████████| 24/24 [00:00<00:00, 24.11batch/s, loss=0.201]\n",
      "  1%|          | 2/216 [00:00<00:11, 18.29batch/s, loss=0.172]\n",
      "Validation\n",
      "--------------\n",
      "Ensemble accuracy 0.981\n",
      "Gate oracle accuracy 0.9885\n",
      "Loss 0.1733646773112317\n",
      "Epoch 8\n",
      "100%|██████████| 216/216 [00:07<00:00, 30.06batch/s, loss=0.0155]\n",
      " 12%|█▎        | 3/24 [00:00<00:00, 23.93batch/s, loss=0.0873]\n",
      "Training\n",
      "--------------\n",
      "Ensemble accuracy 0.9838888888888889\n",
      "Gate oracle accuracy 0.9894444444444445\n",
      "Loss 0.14981264015012938\n",
      "100%|██████████| 24/24 [00:00<00:00, 27.31batch/s, loss=0.195]\n",
      "  1%|▏         | 3/216 [00:00<00:08, 25.59batch/s, loss=0.0615]\n",
      "Validation\n",
      "--------------\n",
      "Ensemble accuracy 0.9803333333333333\n",
      "Gate oracle accuracy 0.9876666666666667\n",
      "Loss 0.18046124574417868\n",
      "Epoch 9\n",
      "100%|██████████| 216/216 [00:07<00:00, 30.34batch/s, loss=0.106]\n",
      "  8%|▊         | 2/24 [00:00<00:02, 10.66batch/s, loss=0.0373]\n",
      "Training\n",
      "--------------\n",
      "Ensemble accuracy 0.9839629629629629\n",
      "Gate oracle accuracy 0.9893518518518518\n",
      "Loss 0.14906354789208207\n",
      "100%|██████████| 24/24 [00:00<00:00, 26.34batch/s, loss=0.144]\n",
      "  1%|          | 2/216 [00:00<00:12, 16.55batch/s, loss=0.14]  \n",
      "Validation\n",
      "--------------\n",
      "Ensemble accuracy 0.9811666666666666\n",
      "Gate oracle accuracy 0.9886666666666667\n",
      "Loss 0.1707180317801734\n",
      "Epoch 10\n",
      "100%|██████████| 216/216 [00:07<00:00, 27.44batch/s, loss=0.0471]\n",
      " 17%|█▋        | 4/24 [00:00<00:00, 30.03batch/s, loss=0.106]\n",
      "Training\n",
      "--------------\n",
      "Ensemble accuracy 0.9848518518518519\n",
      "Gate oracle accuracy 0.9903333333333333\n",
      "Loss 0.13871074053545104\n",
      "100%|██████████| 24/24 [00:00<00:00, 30.03batch/s, loss=0.0834]\n",
      "Validation\n",
      "--------------\n",
      "Ensemble accuracy 0.9808333333333333\n",
      "Gate oracle accuracy 0.9888333333333333\n",
      "Loss 0.17373668782723448\n",
      "\n"
     ]
    }
   ],
   "metadata": {
    "tags": []
   }
  },
  {
   "cell_type": "code",
   "execution_count": 32,
   "source": [
    "dummy_args = Configuration(DEFAULT_DICT)\n",
    "dummy_args.moe_gating = 'simple'\n",
    "dummy_args.method = 'moe'\n",
    "dummy_args.n = 5\n",
    "dummy_args.model = 'lenet'\n",
    "dummy_args.optimizer = 'adam'\n",
    "# args.cpu = True\n",
    "dummy_args.moe_type = 'dense'\n",
    "dummy_args.predict_gated = True"
   ],
   "outputs": [],
   "metadata": {}
  },
  {
   "cell_type": "code",
   "execution_count": 35,
   "source": [
    "dummy_trainer = get_trainer(dummy_args, 'cuda')"
   ],
   "outputs": [
    {
     "output_type": "stream",
     "name": "stdout",
     "text": [
      "Using a simple gate\n"
     ]
    }
   ],
   "metadata": {}
  },
  {
   "cell_type": "code",
   "execution_count": 37,
   "source": [
    "dummy_trainer.model.gating_network = g\n",
    "dummy_trainer.model.experts = exps"
   ],
   "outputs": [],
   "metadata": {}
  },
  {
   "cell_type": "code",
   "execution_count": 38,
   "source": [
    "dummy_trainer.test(test_loader, metric_dict);"
   ],
   "outputs": [
    {
     "output_type": "stream",
     "name": "stderr",
     "text": [
      "  0%|          | 0/40 [00:00<?, ?batch/s]\n",
      "Testing\n",
      "/homes/gp491/deepens/proj-env/lib/python3.8/site-packages/numpy/core/fromnumeric.py:3419: RuntimeWarning: Mean of empty slice.\n",
      "  return _methods._mean(a, axis=axis, dtype=dtype,\n",
      "/homes/gp491/deepens/proj-env/lib/python3.8/site-packages/numpy/core/_methods.py:188: RuntimeWarning: invalid value encountered in double_scalars\n",
      "  ret = ret.dtype.type(ret / rcount)\n",
      "/homes/gp491/deepens/proj-env/lib/python3.8/site-packages/numpy/core/_methods.py:188: RuntimeWarning: invalid value encountered in true_divide\n",
      "  ret = ret.dtype.type(ret / rcount)\n",
      "100%|██████████| 40/40 [00:00<00:00, 63.39batch/s]Results: \n",
      "Accuracy: 0.9833\n",
      "NLL: 0.08413592033321038\n",
      "ECE: 0.015074500668048853\n",
      "Brier: 0.028405361668774276\n",
      "\n"
     ]
    }
   ],
   "metadata": {}
  },
  {
   "cell_type": "code",
   "execution_count": null,
   "source": [],
   "outputs": [],
   "metadata": {}
  }
 ]
}