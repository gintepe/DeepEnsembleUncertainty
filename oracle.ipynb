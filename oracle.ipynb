{
 "metadata": {
  "language_info": {
   "codemirror_mode": {
    "name": "ipython",
    "version": 3
   },
   "file_extension": ".py",
   "mimetype": "text/x-python",
   "name": "python",
   "nbconvert_exporter": "python",
   "pygments_lexer": "ipython3",
   "version": "3.8.7"
  },
  "orig_nbformat": 2,
  "kernelspec": {
   "name": "pythonjvsc74a57bd048b64db227b3f5cb4afbfc07e90e202d0142ea2a06daaa20f8a619f487d7f983",
   "display_name": "Python 3.8.7  ('proj-env': venv)"
  },
  "metadata": {
   "interpreter": {
    "hash": "48b64db227b3f5cb4afbfc07e90e202d0142ea2a06daaa20f8a619f487d7f983"
   }
  }
 },
 "nbformat": 4,
 "nbformat_minor": 2,
 "cells": [
  {
   "source": [
    "This notebook provides a comparison of oracle performance for deep ensembles and sets of \"expert\" networks obtained by training end-to-end mixture of expert models. The oracle performance (both loss and accuracy) is obtained by only considering the subnetwork with the lowest loss for each sample."
   ],
   "cell_type": "markdown",
   "metadata": {}
  },
  {
   "cell_type": "code",
   "execution_count": 66,
   "metadata": {},
   "outputs": [],
   "source": [
    "import numpy as np \n",
    "import torch\n",
    "import torchvision\n",
    "import matplotlib.pyplot as plt\n",
    "\n",
    "import datasets.mnist as mnist\n",
    "import datasets.cifar10 as cifar10\n",
    "import constants\n",
    "from configuration import Configuration\n",
    "from metrics import basic_cross_entropy\n",
    "\n",
    "from util import *"
   ]
  },
  {
   "cell_type": "code",
   "execution_count": 65,
   "metadata": {},
   "outputs": [],
   "source": [
    "from tqdm.notebook import trange, tqdm"
   ]
  },
  {
   "source": [
    "## Setup"
   ],
   "cell_type": "markdown",
   "metadata": {}
  },
  {
   "cell_type": "code",
   "execution_count": 94,
   "metadata": {},
   "outputs": [],
   "source": [
    "def oracle_loss_and_correctness(preds, gt, criterion):\n",
    "    losses = torch.stack([criterion(pred, gt, reduction='none') for pred in preds], dim=1)\n",
    "    loss_val, net_id = torch.min(losses, dim=-1)\n",
    "    \n",
    "    oracle_loss = torch.mean(loss_val)\n",
    "    preds_stacked = torch.stack(preds, dim=1)\n",
    "\n",
    "    oracle_preds = preds_stacked[torch.arange(preds_stacked.shape[0]), net_id]\n",
    "\n",
    "    confidence, predicted = torch.max(oracle_preds, 1)\n",
    "    correct = (predicted == gt).sum().item()\n",
    "\n",
    "    return oracle_loss, correct"
   ]
  },
  {
   "cell_type": "code",
   "execution_count": 76,
   "metadata": {},
   "outputs": [],
   "source": [
    "def oracle_test(loader, trainer, main_criterion=basic_cross_entropy, individual_criterion=torch.nn.functional.cross_entropy):\n",
    "    trainer.model.eval()\n",
    "    \n",
    "    total = 0\n",
    "    loss = 0\n",
    "    correct = 0\n",
    "    oracle_correct = 0\n",
    "    oracle_loss = 0\n",
    "    with torch.no_grad():\n",
    "        with tqdm(loader, unit=\"batch\") as tepoch:\n",
    "            for x, y in tepoch:\n",
    "\n",
    "                n = x.shape[0]\n",
    "                total += n\n",
    "\n",
    "                cum_pred, preds = trainer.predict_test(x)\n",
    "                \n",
    "                loss += main_criterion(cum_pred, y).item() * n\n",
    "                confidence, predicted = torch.max(cum_pred, 1)\n",
    "                correct += (predicted == y).sum().item()\n",
    "\n",
    "                oracle_batch_loss, oracle_batch_correct = oracle_loss_and_correctness(preds, y, individual_criterion)\n",
    "                oracle_loss += oracle_batch_loss * n\n",
    "                oracle_correct += oracle_batch_correct\n",
    "\n",
    "    print(f'Results:\\nAccuracy: {correct/total}\\nOracle accuracy: {oracle_correct/total}\\nLoss: {loss / total}\\nOracle loss {oracle_loss/total}')\n",
    "\n",
    "    return correct/total, oracle_correct/total, loss/total, oracle_loss/total\n",
    "\n"
   ]
  },
  {
   "cell_type": "code",
   "execution_count": 112,
   "metadata": {},
   "outputs": [],
   "source": [
    "# mnist 5 lenet ensemble \n",
    "run_id_ens_mnist = 'run-20210620_200823-3pjsgj5t'\n",
    "\n",
    "# mnist 5 lenet MoE with MLP gating\n",
    "run_id_moe_mnist = 'run-20210715_132419-25v4nj6r'\n",
    "\n",
    "# cifar10 5 resnet20 DE\n",
    "run_id_ens_cifar = 'run-20210714_204846-2xi5eo42'\n",
    "\n",
    "# cifar10 5 expert MoE with MLP gating\n",
    "run_id_moe_cifar = 'run-20210709_132246-30tjmo1b'\n",
    "\n",
    "# cifar 10 5 expert MoE with conv gating\n",
    "run_id_moe_cifar_conv = 'run-20210714_173933-3dt16gha'\n",
    "\n",
    "# cifar 10 5 experts MoE with MC Dropout gating\n",
    "run_id_moe_cifar_mcd = 'run-20210704_235514-2k6cty25'\n"
   ]
  },
  {
   "cell_type": "code",
   "execution_count": 103,
   "metadata": {},
   "outputs": [],
   "source": [
    "test_loader_mnist = mnist.get_test_loader(model_args.data_dir, model_args.batch_size, corrupted=False)#, intensity=i, corruption='rotation')\n",
    "test_loader_cifar = cifar10.get_test_loader(model_args.data_dir, model_args.batch_size, corrupted=False)#, corruptions=constants.CORRUPTIONS, intensities=[corruption_intensity]is_cifar10=model_args.dataset_type=='cifar10')"
   ]
  },
  {
   "source": [
    "### Run a test for a regular deep ensemble on MNIST"
   ],
   "cell_type": "markdown",
   "metadata": {}
  },
  {
   "cell_type": "code",
   "execution_count": 98,
   "metadata": {},
   "outputs": [
    {
     "output_type": "stream",
     "name": "stdout",
     "text": [
      "Initialising an ensemble of 5 networks\n"
     ]
    },
    {
     "output_type": "display_data",
     "data": {
      "text/plain": "  0%|          | 0/79 [00:00<?, ?batch/s]",
      "application/vnd.jupyter.widget-view+json": {
       "version_major": 2,
       "version_minor": 0,
       "model_id": "9ac8d452805949789fa860ac4acef46f"
      }
     },
     "metadata": {}
    },
    {
     "output_type": "stream",
     "name": "stdout",
     "text": [
      "Results:\nAccuracy: 0.9897\nOracle accuracy: 0.9951\nLoss: 0.029992355357296763\nOracle loss 0.014500808902084827\n"
     ]
    }
   ],
   "source": [
    "trainer, model_args = load_trainer(run_id_ens_mnist, 40, device='cpu')\n",
    "oracle_test(test_loader_mnist, trainer);"
   ]
  },
  {
   "source": [
    "### Run a test for a MoE model on MNIST"
   ],
   "cell_type": "markdown",
   "metadata": {}
  },
  {
   "cell_type": "code",
   "execution_count": 99,
   "metadata": {},
   "outputs": [
    {
     "output_type": "display_data",
     "data": {
      "text/plain": "  0%|          | 0/79 [00:00<?, ?batch/s]",
      "application/vnd.jupyter.widget-view+json": {
       "version_major": 2,
       "version_minor": 0,
       "model_id": "e42636185b904535bef62c96e8d7b17e"
      }
     },
     "metadata": {}
    },
    {
     "output_type": "stream",
     "name": "stdout",
     "text": [
      "Results:\nAccuracy: 0.9847\nOracle accuracy: 0.9969\nLoss: 0.05549217186557362\nOracle loss 0.010589959099888802\n"
     ]
    }
   ],
   "source": [
    "trainer, model_args = load_trainer(run_id_moe_mnist, 60, device='cpu')\n",
    "oracle_test(test_loader_mnist, trainer);"
   ]
  },
  {
   "source": [
    "### Run a test for a regular deep ensemble on CIFAR10\n"
   ],
   "cell_type": "markdown",
   "metadata": {}
  },
  {
   "cell_type": "code",
   "execution_count": 105,
   "metadata": {},
   "outputs": [
    {
     "output_type": "stream",
     "name": "stdout",
     "text": [
      "Initialising an ensemble of 5 networks\nSGD optimizer\n"
     ]
    },
    {
     "output_type": "display_data",
     "data": {
      "text/plain": "  0%|          | 0/79 [00:00<?, ?batch/s]",
      "application/vnd.jupyter.widget-view+json": {
       "version_major": 2,
       "version_minor": 0,
       "model_id": "ebe642e025c84f39b67fa2f03779b881"
      }
     },
     "metadata": {}
    },
    {
     "output_type": "stream",
     "name": "stdout",
     "text": [
      "Results:\nAccuracy: 0.936\nOracle accuracy: 0.9773\nLoss: 0.20362979245185853\nOracle loss 0.07903696596622467\n"
     ]
    }
   ],
   "source": [
    "trainer, model_args = load_trainer(run_id_ens_cifar, 180, device='cpu')\n",
    "oracle_test(test_loader_cifar, trainer);"
   ]
  },
  {
   "source": [
    "### Run a test for a MoE model on CIFAR"
   ],
   "cell_type": "markdown",
   "metadata": {}
  },
  {
   "cell_type": "code",
   "execution_count": 110,
   "metadata": {},
   "outputs": [
    {
     "output_type": "stream",
     "name": "stdout",
     "text": [
      "Using a simple gate\nSGD optimizer\nusing multistep scheduler\n"
     ]
    },
    {
     "output_type": "display_data",
     "data": {
      "text/plain": "  0%|          | 0/79 [00:00<?, ?batch/s]",
      "application/vnd.jupyter.widget-view+json": {
       "version_major": 2,
       "version_minor": 0,
       "model_id": "ac5db104887741f296b7aec09f787748"
      }
     },
     "metadata": {}
    },
    {
     "output_type": "stream",
     "name": "stdout",
     "text": [
      "Results:\nAccuracy: 0.8918\nOracle accuracy: 0.9727\nLoss: 0.3614530630111694\nOracle loss 0.08147614449262619\n"
     ]
    }
   ],
   "source": [
    "trainer, model_args = load_trainer(run_id_moe_cifar, 180, device='cpu')\n",
    "oracle_test(test_loader_cifar, trainer);"
   ]
  },
  {
   "cell_type": "code",
   "execution_count": 111,
   "metadata": {},
   "outputs": [
    {
     "output_type": "stream",
     "name": "stdout",
     "text": [
      "Using a simple convolutional gate\nSGD optimizer\nusing multistep scheduler\n"
     ]
    },
    {
     "output_type": "display_data",
     "data": {
      "text/plain": "  0%|          | 0/79 [00:00<?, ?batch/s]",
      "application/vnd.jupyter.widget-view+json": {
       "version_major": 2,
       "version_minor": 0,
       "model_id": "abf65910172241368c0dc8ef78cfbe54"
      }
     },
     "metadata": {}
    },
    {
     "output_type": "stream",
     "name": "stdout",
     "text": [
      "Results:\nAccuracy: 0.9023\nOracle accuracy: 0.9751\nLoss: 0.3513138517379761\nOracle loss 0.07271169871091843\n"
     ]
    }
   ],
   "source": [
    "trainer, model_args = load_trainer(run_id_moe_cifar_conv, 180, device='cpu')\n",
    "oracle_test(test_loader_cifar, trainer);"
   ]
  },
  {
   "cell_type": "code",
   "execution_count": 113,
   "metadata": {},
   "outputs": [
    {
     "output_type": "stream",
     "name": "stdout",
     "text": [
      "mc drop gate with p = 0.9\nSGD optimizer\nusing multistep scheduler\n"
     ]
    },
    {
     "output_type": "display_data",
     "data": {
      "text/plain": "  0%|          | 0/79 [00:00<?, ?batch/s]",
      "application/vnd.jupyter.widget-view+json": {
       "version_major": 2,
       "version_minor": 0,
       "model_id": "c331d23e95d24a8696b5b5d3615d630b"
      }
     },
     "metadata": {}
    },
    {
     "output_type": "stream",
     "name": "stdout",
     "text": [
      "Results:\nAccuracy: 0.9235\nOracle accuracy: 0.9738\nLoss: 0.2539546750307083\nOracle loss 0.09243524819612503\n"
     ]
    }
   ],
   "source": [
    "trainer, model_args = load_trainer(run_id_moe_cifar_mcd, 180, device='cpu')\n",
    "oracle_test(test_loader_cifar, trainer);"
   ]
  },
  {
   "cell_type": "code",
   "execution_count": null,
   "metadata": {},
   "outputs": [],
   "source": []
  }
 ]
}